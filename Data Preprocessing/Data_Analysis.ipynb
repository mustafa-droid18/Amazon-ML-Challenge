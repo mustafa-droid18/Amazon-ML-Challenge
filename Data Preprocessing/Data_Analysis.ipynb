{
  "cells": [
    {
      "cell_type": "code",
      "execution_count": 1,
      "metadata": {
        "colab": {
          "base_uri": "https://localhost:8080/"
        },
        "id": "qJ7AUn1QCN5G",
        "outputId": "a795b483-f03d-40d8-972f-43e95fa45491"
      },
      "outputs": [
        {
          "name": "stdout",
          "output_type": "stream",
          "text": [
            "--2023-04-20 19:00:14--  https://s3-ap-southeast-1.amazonaws.com/he-public-data/datasetb2d9982.zip\n",
            "Resolving s3-ap-southeast-1.amazonaws.com (s3-ap-southeast-1.amazonaws.com)... 52.219.128.150\n",
            "Connecting to s3-ap-southeast-1.amazonaws.com (s3-ap-southeast-1.amazonaws.com)|52.219.128.150|:443... connected.\n",
            "HTTP request sent, awaiting response... 200 OK\n",
            "Length: 895569552 (854M) [binary/octet-stream]\n",
            "Saving to: ‘datasetb2d9982.zip’\n",
            "\n",
            "datasetb2d9982.zip  100%[===================>] 854.08M  12.1MB/s    in 73s     \n",
            "\n",
            "2023-04-20 19:01:28 (11.7 MB/s) - ‘datasetb2d9982.zip’ saved [895569552/895569552]\n",
            "\n",
            "Archive:  datasetb2d9982.zip\n",
            "   creating: dataset/\n",
            "  inflating: dataset/sample_submission.csv  \n",
            "  inflating: dataset/train.csv       \n",
            "  inflating: dataset/test.csv        \n"
          ]
        }
      ],
      "source": [
        "# Dataset download and unzip\n",
        "# !wget https://s3-ap-southeast-1.amazonaws.com/he-public-data/datasetb2d9982.zip\n",
        "# !unzip datasetb2d9982.zip"
      ]
    },
    {
      "cell_type": "code",
      "execution_count": 2,
      "metadata": {
        "id": "cWEaiRM6CSXE"
      },
      "outputs": [],
      "source": [
        "import pandas as pd\n",
        "import numpy as np "
      ]
    },
    {
      "cell_type": "code",
      "execution_count": 11,
      "metadata": {},
      "outputs": [],
      "source": [
        "df_train = pd.read_csv('dataset/train.csv')\n",
        "df_test = pd.read_csv('dataset/test.csv')\n",
        "df_sample = pd.read_csv('dataset/sample_submission.csv')"
      ]
    },
    {
      "cell_type": "code",
      "execution_count": 20,
      "metadata": {},
      "outputs": [
        {
          "name": "stdout",
          "output_type": "stream",
          "text": [
            "train_col Index(['PRODUCT_ID', 'TITLE', 'BULLET_POINTS', 'DESCRIPTION',\n",
            "       'PRODUCT_TYPE_ID', 'PRODUCT_LENGTH'],\n",
            "      dtype='object')\n",
            "test_col Index(['PRODUCT_ID', 'TITLE', 'BULLET_POINTS', 'DESCRIPTION',\n",
            "       'PRODUCT_TYPE_ID'],\n",
            "      dtype='object')\n",
            "sample_col Index(['PRODUCT_ID', 'PRODUCT_LENGTH'], dtype='object')\n"
          ]
        }
      ],
      "source": [
        "# df_train.head(10)\n",
        "print('train_col', df_train.columns)\n",
        "print('test_col', df_test.columns)\n",
        "print('sample_col', df_sample.columns)"
      ]
    },
    {
      "cell_type": "code",
      "execution_count": 29,
      "metadata": {},
      "outputs": [],
      "source": [
        "def displyafull(df, col):\n",
        "    for i in range(10):\n",
        "        print(i, '. ', df[col][i])"
      ]
    },
    {
      "attachments": {},
      "cell_type": "markdown",
      "metadata": {},
      "source": [
        "## df_train analysis"
      ]
    },
    {
      "cell_type": "code",
      "execution_count": 31,
      "metadata": {},
      "outputs": [
        {
          "name": "stdout",
          "output_type": "stream",
          "text": [
            "0 .  ArtzFolio Tulip Flowers Blackout Curtain for Door, Window & Room | Eyelets & Tie Back | Canvas Fabric | Width 4.5feet (54inch) Height 5 feet (60 inch); Set of 2 PCS\n",
            "1 .  Marks & Spencer Girls' Pyjama Sets T86_2561C_Navy Mix_9-10Y\n",
            "2 .  PRIKNIK Horn Red Electric Air Horn Compressor Interior Dual Tone Trumpet Loud Compatible with SX4\n",
            "3 .  ALISHAH Women's Cotton Ankle Length Leggings Combo of 2, Plus 12 Colors_L\n",
            "4 .  The United Empire Loyalists: A Chronicle of the Great Migration\n",
            "5 .  HINS Metal Bucket Shape Plant Pot for Indoor & Outdoor Gardening (Red, Medium) Plant Stands for Indoor Balcony I Plant Bench I Plant Stands I Pot Stand Single I Potted Plant Stand I Big Pots I Metal\n",
            "6 .  Ungifted: My Life and Journey\n",
            "7 .  Delavala Self Adhesive Kitchen Backsplash Wallpaper, Oil Proof Aluminum Foil Kitchen Sticker (Sliver 5(Mtr))\n",
            "8 .  PUMA Cali Sport Clean Women's Sneakers White Leather (37540701)\n",
            "9 .  Hexwell Essential oil for Home Fragrance Oil Aroma Diffuser oil Set of 2 Rajnigandha Oil & TeaTree Oil -10ML Each\n",
            " \n",
            "0 .  [LUXURIOUS & APPEALING: Beautiful custom-made curtains to decorate any home or office | Includes inbuilt tieback to hold the curtain | Completely finished and ready to hang on walls & windows,MATERIAL: Luxurious & versatile fabric with a natural finish | High colour fastness | State-of-the-art digital printing ensures colour consistency and prevents any fading | Eyelets; Cotton Canvas; Width 4.5feet (54inch) | Multicolour | PACKAGE: 2 Room Curtains Eyelets | SIZE: Height 5 feet (60 inch); SET OF 2 PCS,BLACKOUT CURTAIN: 100% opaque & heavy premium cotton canvas fabric | Tight knitted, long life & durable fabric | Printing only on front side with a plain colour back side,MADE TO PERFECTION: Large eyelets at the top to put hanging hooks | Perfectly tailored seams for durability | Refined stitching with a matching thread color,QUALITY ASSURED: Gentle wash with similar colors in cold water | Avoid direct sunlight to prevent fading | Dispatched after MULTIPLE QUALITY CHECKS]\n",
            "1 .  [Harry Potter Hedwig Pyjamas (6-16 Yrs),100% cotton (exclusive of trimmings),Ribbing - 98% cotton, 2% elastane]\n",
            "2 .  [Loud Dual Tone Trumpet Horn, Compatible With SX4,Electric Air Horn with Compressor, Compatible With SX4,High Quality, High Intensity Horn Sound, Compatible With SX4,Color: Red, Compatible With SX4,Professional installation required, Compatible With SX4]\n",
            "3 .  [Made By 95%cotton and 5% Lycra which gives you 4 ways stretchable comfort, GSM 180 to 190,Come with Elasticized Waist Band, Slim Fit,Bubble free fabric and High quality steaching, Bio Wash,Skin-friendly fabric,ANKLE LENGTH LEGGINGS PACK OF 2]\n",
            "4 .  nan\n",
            "5 .  [Simple and elegant, great for displaying indoor plants like succulent plants, air plants, seedling, herbs etc.,High Quality - Both Indoor/outdoor planter stand and flower pots are made of wrought iron material, with powder coated paint, rustproof and durable.,Pefect decor for living room, balcony and garden.,BEST QUALITY, STRONG AND DURABLE - The surface of the pot holder is rust-proofed and it can be used for a longer time.,The elevated indoor potted plant stand can make watering easier and give the plant a better space to grow.,A pragmatic and eco-friendly gift for any nature lover, gardening hobbyist or home decorist.,Note : Plants are only for display.These are not included with Planter,Please allow 0~2cm errors due to manual measurement.]\n",
            "6 .  nan\n",
            "7 .  [HIGH QUALITY PVC MATERIAL: The kitchen aluminum foil stickers are made from plastic and aluminum foil, which is much stronger against high temperature than normal PVC sheet. The Anti-bacterial, Anti-mold, and Eco-friendly PVC materials is safe enough to use in Kitchen.,EASY TO USE AND CLEAN: Self-adhesive kitchen wallpaper is easy to stick on the dry, clean and smooth surface. Anti-oil, anti-dust and anti-water, anti-moisture PVC material allows you to wipe stains easily.,EASY CUT AND TRIM: back cut-to-fit grid lines design of the self-adhesive kitchen oil proof sticker is convenient for you to cut and trim any size you want. This silver rhombus texture add more fashion to your kitchen decor.,MULTI-USAGE: The kitchen backsplash wallpaper is great for home decorations to be used in kitchen cabinets ,countertop ,shelves, walls ,Pantry areas ,Dishwashers, Dishwasher Panels, Oven Hood, Refrigerators ,appliance etc, instant peel and apply to flat surfaces.,Anti-oil, anti-dust and anti-water: made from plastic and aluminum foil, much stronger against fire than normal PVC sheet. Resistant to heat and moisture, Easy wipe to remove the stains!]\n",
            "8 .  [Style Name:-Cali Sport Clean Women's Sneakers,Upper Material:-Leather,Lower Material:-Rubber,Care Instructions: Wipe with a clean dry cloth,Warranty Period: 90 Days Manufacturers Warranty]\n",
            "9 .  [100% Pure And Natural Essential Oil Or Fragrance Oil, Each Bottle in 10ml of aromatherapy essential oils available.,This essential oil set could be used in professional environments like massage facilities, beauty salons and offices, or used to diffuse/humidify the air in the rooms.,For those who love DIY, these essential oils could be perfect for baths, body and hair care, homemade lotions, candles, candle wax, soy wax, soap base, perfumes, cleaning, art & craft projects, pine cones, incense sticks or cones, other unscented products and so much more!,We have this types of Aromas Essential Diffuser oil of Lavender Oil, Rose Oil, Tea Tree Oil, Rosemary Oil, Jasmine Oil, Rajnigandha Oil, Eucalyptus Oil, Lemongrass Oil, Orchid Oil & Sandalwood Oil,A perfect gift for everyday use.]\n",
            " \n",
            "0 .  nan\n",
            "1 .  nan\n",
            "2 .  Specifications: Color: Red, Material: Aluminium, Voltage: 12V, dB: 130 dB (around), Material: Aluminum Pump Head + Steel Pump Body + ABS Shell and Parts DB output: 130db Voltage: 12v Sound Type: Dual Tone Application: 12V Voltage Vehicles With Battery Above 20A Package included: 1 x Dual Tone Air Horn Compatible With SX4\n",
            "3 .  AISHAH Women's Lycra Cotton Ankel Leggings. Brand: ALISHAH Length: Ankel Length Leggings. Size Chart Medium: 28 - 30 inch Large: 30 - 32 inch X-Large: 32 - 34 inch 2X-Large: 34 - 38 inch The color fade will not be there in washing. This cotton stretch leggings is designed to provide absolute comfort and body fit. Pair it with short or long kurta for modern look. High on style, fit and finish, this leggings is sure to lend you a sophisticated look. Please wash the dark colors separately in order to improve the product life. Disclaimer: Product color may slightly vary due to photographic lighting sources or your monitor settings. Please order according to your waist size mentioned in size chart\n",
            "4 .  nan\n",
            "5 .  HINS Brings you the most Elegant Looking Pot with Stand for durable and long life Pot Stands for your lovely garden space, office and home. HINS is one of the best choice when it comes to indoor plants. It makes a good choice for housewarming gift. This beautiful product will take center stage with its sprawling design when planted with a plant. The metal stands are painted with powder-coated paint that will protect the galvanized iron from rusting. It will also prevent the color from fading. Each planter pot is removable for easy mobility, allowing you to switch out plants depending on your mood Note- Monitors are not calibrated same, item color displayed in photos may be showing slightly different from the real object. Please take the real one as standard. Please allow 0~2cm errors due to manual measurement.\n",
            "6 .  nan\n",
            "7 .  <p><strong>Aluminum Foil Stickers-good kitchen helper for mom and wife.&nbsp;</strong><br><br><strong>Specification: &nbsp;</strong><br><strong>-Materials: high-quality PVC &nbsp;</strong><br><strong>-Size: 2 MT&nbsp;</strong><br><strong>-Color: Silver &nbsp;</strong><br><strong>-Friendly note: Please buy enough rolls at a time to make sure that these wallpaper comes from the same batch to avoid color difference. &nbsp;</strong><br><strong>-This Aluminum Foil Stickers can be used for any dry, clean and smooth surface.&nbsp;</strong><br><br><strong>Features: &nbsp;</strong><br><strong>1.High temperature resistant material is suitable for kitchen, which resists temperatures up to 250 Celsius. It can be used for a long time and will not deform. &nbsp;</strong><br><strong>2.Easily to cut up: A grid line in square on the back, easy for you get the size you need when you cut.&nbsp;</strong><br><br><strong>How to use? &nbsp;</strong><br><strong>1.Before sticking the kitchen oil proof wallpaper, please clean and dry surface with mild soap and water. Make sure that surface is flat and without any carve. &nbsp;</strong><br><strong>2.Just cut out the size you want. &nbsp;</strong><br><strong>3.Use dishcloth or card to remove any air bubbles.&nbsp;</strong><br><br><strong>Package Included: &nbsp;</strong><br><strong>1 × Kitchen Backsplash Wallpaper&nbsp;</strong><br><br><strong>100% SATISFACTION GUARANTEED: &nbsp;</strong><br><strong>We are always available to provide professional customer service before and after your purchase, so don't wait any longer and enjoy it right now.&nbsp;</strong><br><br>&nbsp;</p>\n",
            "8 .  nan\n",
            "9 .  Transform your home, workplace or hotel room into your personal aromatherapy oasis! With elegantly designed diffusers and aroma diffuser oils, you can infuse essential oils into any setting and create a spa-like experience anywhere life takes you. 10 bottle each of Lavender, Rose, Tea Tree, Rosemary, Jasmine, Rajnigandha, Eucalyptus, Lemongrass, Orchid & Sandalwood fragrance.\n"
          ]
        }
      ],
      "source": [
        "displyafull(df_train, 'TITLE')\n",
        "print(' ')\n",
        "displyafull(df_train, 'BULLET_POINTS')\n",
        "print(' ')\n",
        "displyafull(df_train, 'DESCRIPTION')"
      ]
    },
    {
      "cell_type": "code",
      "execution_count": 18,
      "metadata": {},
      "outputs": [
        {
          "name": "stdout",
          "output_type": "stream",
          "text": [
            "Index(['PRODUCT_ID', 'TITLE', 'BULLET_POINTS', 'DESCRIPTION',\n",
            "       'PRODUCT_TYPE_ID'],\n",
            "      dtype='object')\n"
          ]
        },
        {
          "data": {
            "text/html": [
              "<div>\n",
              "<style scoped>\n",
              "    .dataframe tbody tr th:only-of-type {\n",
              "        vertical-align: middle;\n",
              "    }\n",
              "\n",
              "    .dataframe tbody tr th {\n",
              "        vertical-align: top;\n",
              "    }\n",
              "\n",
              "    .dataframe thead th {\n",
              "        text-align: right;\n",
              "    }\n",
              "</style>\n",
              "<table border=\"1\" class=\"dataframe\">\n",
              "  <thead>\n",
              "    <tr style=\"text-align: right;\">\n",
              "      <th></th>\n",
              "      <th>PRODUCT_ID</th>\n",
              "      <th>TITLE</th>\n",
              "      <th>BULLET_POINTS</th>\n",
              "      <th>DESCRIPTION</th>\n",
              "      <th>PRODUCT_TYPE_ID</th>\n",
              "    </tr>\n",
              "  </thead>\n",
              "  <tbody>\n",
              "    <tr>\n",
              "      <th>0</th>\n",
              "      <td>604373</td>\n",
              "      <td>Manuel d'Héliogravure Et de Photogravure En Re...</td>\n",
              "      <td>NaN</td>\n",
              "      <td>NaN</td>\n",
              "      <td>6142</td>\n",
              "    </tr>\n",
              "    <tr>\n",
              "      <th>1</th>\n",
              "      <td>1729783</td>\n",
              "      <td>DCGARING Microfiber Throw Blanket Warm Fuzzy P...</td>\n",
              "      <td>[QUALITY GUARANTEED: Luxury cozy plush polyest...</td>\n",
              "      <td>&lt;b&gt;DCGARING Throw Blanket&lt;/b&gt;&lt;br&gt;&lt;br&gt; &lt;b&gt;Size ...</td>\n",
              "      <td>1622</td>\n",
              "    </tr>\n",
              "    <tr>\n",
              "      <th>2</th>\n",
              "      <td>1871949</td>\n",
              "      <td>I-Match Auto Parts Front License Plate Bracket...</td>\n",
              "      <td>[Front License Plate Bracket Made Of Plastic,D...</td>\n",
              "      <td>Replacement for The Following Vehicles:2020 LE...</td>\n",
              "      <td>7540</td>\n",
              "    </tr>\n",
              "    <tr>\n",
              "      <th>3</th>\n",
              "      <td>1107571</td>\n",
              "      <td>PinMart Gold Plated Excellence in Service 1 Ye...</td>\n",
              "      <td>[Available as a single item or bulk packed. Se...</td>\n",
              "      <td>Our Excellence in Service Lapel Pins feature a...</td>\n",
              "      <td>12442</td>\n",
              "    </tr>\n",
              "    <tr>\n",
              "      <th>4</th>\n",
              "      <td>624253</td>\n",
              "      <td>Visual Mathematics, Illustrated by the TI-92 a...</td>\n",
              "      <td>NaN</td>\n",
              "      <td>NaN</td>\n",
              "      <td>6318</td>\n",
              "    </tr>\n",
              "    <tr>\n",
              "      <th>5</th>\n",
              "      <td>2782548</td>\n",
              "      <td>Evershine Shoppee 10m Waxed Nylon Thread Cotto...</td>\n",
              "      <td>[Kindly Refer The Product Description Before B...</td>\n",
              "      <td>Description: Material: Nylon Length: about 10m...</td>\n",
              "      <td>11205</td>\n",
              "    </tr>\n",
              "    <tr>\n",
              "      <th>6</th>\n",
              "      <td>1605901</td>\n",
              "      <td>Vasque Men's Velocity at Hiking Shoe, Dark Spr...</td>\n",
              "      <td>[The velocity all-terrain is a streamlined hik...</td>\n",
              "      <td>NaN</td>\n",
              "      <td>3234</td>\n",
              "    </tr>\n",
              "    <tr>\n",
              "      <th>7</th>\n",
              "      <td>938007</td>\n",
              "      <td>Pokemon M-037 Kyurem Figure Monster Collection...</td>\n",
              "      <td>NaN</td>\n",
              "      <td>NaN</td>\n",
              "      <td>0</td>\n",
              "    </tr>\n",
              "    <tr>\n",
              "      <th>8</th>\n",
              "      <td>708128</td>\n",
              "      <td>Ganz normal verrückt: Das Wassermannzeitalter ...</td>\n",
              "      <td>NaN</td>\n",
              "      <td>NaN</td>\n",
              "      <td>10512</td>\n",
              "    </tr>\n",
              "    <tr>\n",
              "      <th>9</th>\n",
              "      <td>1609597</td>\n",
              "      <td>Lug Women's Puddle Jumper Wheelie 2, Heather Grey</td>\n",
              "      <td>[Polyester Twill,Imported,polyester lining,Sof...</td>\n",
              "      <td>NaN</td>\n",
              "      <td>2640</td>\n",
              "    </tr>\n",
              "  </tbody>\n",
              "</table>\n",
              "</div>"
            ],
            "text/plain": [
              "   PRODUCT_ID                                              TITLE   \n",
              "0      604373  Manuel d'Héliogravure Et de Photogravure En Re...  \\\n",
              "1     1729783  DCGARING Microfiber Throw Blanket Warm Fuzzy P...   \n",
              "2     1871949  I-Match Auto Parts Front License Plate Bracket...   \n",
              "3     1107571  PinMart Gold Plated Excellence in Service 1 Ye...   \n",
              "4      624253  Visual Mathematics, Illustrated by the TI-92 a...   \n",
              "5     2782548  Evershine Shoppee 10m Waxed Nylon Thread Cotto...   \n",
              "6     1605901  Vasque Men's Velocity at Hiking Shoe, Dark Spr...   \n",
              "7      938007  Pokemon M-037 Kyurem Figure Monster Collection...   \n",
              "8      708128  Ganz normal verrückt: Das Wassermannzeitalter ...   \n",
              "9     1609597  Lug Women's Puddle Jumper Wheelie 2, Heather Grey   \n",
              "\n",
              "                                       BULLET_POINTS   \n",
              "0                                                NaN  \\\n",
              "1  [QUALITY GUARANTEED: Luxury cozy plush polyest...   \n",
              "2  [Front License Plate Bracket Made Of Plastic,D...   \n",
              "3  [Available as a single item or bulk packed. Se...   \n",
              "4                                                NaN   \n",
              "5  [Kindly Refer The Product Description Before B...   \n",
              "6  [The velocity all-terrain is a streamlined hik...   \n",
              "7                                                NaN   \n",
              "8                                                NaN   \n",
              "9  [Polyester Twill,Imported,polyester lining,Sof...   \n",
              "\n",
              "                                         DESCRIPTION  PRODUCT_TYPE_ID  \n",
              "0                                                NaN             6142  \n",
              "1  <b>DCGARING Throw Blanket</b><br><br> <b>Size ...             1622  \n",
              "2  Replacement for The Following Vehicles:2020 LE...             7540  \n",
              "3  Our Excellence in Service Lapel Pins feature a...            12442  \n",
              "4                                                NaN             6318  \n",
              "5  Description: Material: Nylon Length: about 10m...            11205  \n",
              "6                                                NaN             3234  \n",
              "7                                                NaN                0  \n",
              "8                                                NaN            10512  \n",
              "9                                                NaN             2640  "
            ]
          },
          "execution_count": 18,
          "metadata": {},
          "output_type": "execute_result"
        }
      ],
      "source": [
        "displyafull(df_test, 'TITLE')\n",
        "print(' ')\n",
        "displyafull(df_test, 'BULLET_POINTS')\n",
        "print(' ')\n",
        "displyafull(df_test, 'DESCRIPTION')"
      ]
    },
    {
      "cell_type": "code",
      "execution_count": 19,
      "metadata": {},
      "outputs": [
        {
          "name": "stdout",
          "output_type": "stream",
          "text": [
            "Index(['PRODUCT_ID', 'PRODUCT_LENGTH'], dtype='object')\n"
          ]
        },
        {
          "data": {
            "text/html": [
              "<div>\n",
              "<style scoped>\n",
              "    .dataframe tbody tr th:only-of-type {\n",
              "        vertical-align: middle;\n",
              "    }\n",
              "\n",
              "    .dataframe tbody tr th {\n",
              "        vertical-align: top;\n",
              "    }\n",
              "\n",
              "    .dataframe thead th {\n",
              "        text-align: right;\n",
              "    }\n",
              "</style>\n",
              "<table border=\"1\" class=\"dataframe\">\n",
              "  <thead>\n",
              "    <tr style=\"text-align: right;\">\n",
              "      <th></th>\n",
              "      <th>PRODUCT_ID</th>\n",
              "      <th>PRODUCT_LENGTH</th>\n",
              "    </tr>\n",
              "  </thead>\n",
              "  <tbody>\n",
              "    <tr>\n",
              "      <th>0</th>\n",
              "      <td>604373</td>\n",
              "      <td>701.093794</td>\n",
              "    </tr>\n",
              "    <tr>\n",
              "      <th>1</th>\n",
              "      <td>1729783</td>\n",
              "      <td>734.506163</td>\n",
              "    </tr>\n",
              "    <tr>\n",
              "      <th>2</th>\n",
              "      <td>1871949</td>\n",
              "      <td>741.360258</td>\n",
              "    </tr>\n",
              "    <tr>\n",
              "      <th>3</th>\n",
              "      <td>1107571</td>\n",
              "      <td>730.327767</td>\n",
              "    </tr>\n",
              "    <tr>\n",
              "      <th>4</th>\n",
              "      <td>624253</td>\n",
              "      <td>666.847946</td>\n",
              "    </tr>\n",
              "    <tr>\n",
              "      <th>5</th>\n",
              "      <td>2782548</td>\n",
              "      <td>707.239261</td>\n",
              "    </tr>\n",
              "    <tr>\n",
              "      <th>6</th>\n",
              "      <td>1605901</td>\n",
              "      <td>699.991065</td>\n",
              "    </tr>\n",
              "    <tr>\n",
              "      <th>7</th>\n",
              "      <td>938007</td>\n",
              "      <td>733.425648</td>\n",
              "    </tr>\n",
              "    <tr>\n",
              "      <th>8</th>\n",
              "      <td>708128</td>\n",
              "      <td>760.074346</td>\n",
              "    </tr>\n",
              "    <tr>\n",
              "      <th>9</th>\n",
              "      <td>1609597</td>\n",
              "      <td>750.222763</td>\n",
              "    </tr>\n",
              "  </tbody>\n",
              "</table>\n",
              "</div>"
            ],
            "text/plain": [
              "   PRODUCT_ID  PRODUCT_LENGTH\n",
              "0      604373      701.093794\n",
              "1     1729783      734.506163\n",
              "2     1871949      741.360258\n",
              "3     1107571      730.327767\n",
              "4      624253      666.847946\n",
              "5     2782548      707.239261\n",
              "6     1605901      699.991065\n",
              "7      938007      733.425648\n",
              "8      708128      760.074346\n",
              "9     1609597      750.222763"
            ]
          },
          "execution_count": 19,
          "metadata": {},
          "output_type": "execute_result"
        }
      ],
      "source": [
        "df_sample.head(10)"
      ]
    },
    {
      "cell_type": "code",
      "execution_count": null,
      "metadata": {},
      "outputs": [],
      "source": [
        "'''\n",
        "using df_train['PRODUCT_LENGTH'] \n",
        "'''"
      ]
    }
  ],
  "metadata": {
    "colab": {
      "provenance": []
    },
    "kernelspec": {
      "display_name": "Python 3",
      "name": "python3"
    },
    "language_info": {
      "codemirror_mode": {
        "name": "ipython",
        "version": 3
      },
      "file_extension": ".py",
      "mimetype": "text/x-python",
      "name": "python",
      "nbconvert_exporter": "python",
      "pygments_lexer": "ipython3",
      "version": "3.11.2"
    }
  },
  "nbformat": 4,
  "nbformat_minor": 0
}
